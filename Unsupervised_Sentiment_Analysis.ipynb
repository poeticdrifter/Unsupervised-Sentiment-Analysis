{
 "cells": [
  {
   "cell_type": "markdown",
   "metadata": {},
   "source": [
    "### Import Libraries"
   ]
  },
  {
   "cell_type": "code",
   "execution_count": 13,
   "metadata": {},
   "outputs": [],
   "source": [
    "import re\n",
    "import time\n",
    "import random\n",
    "import imageio\n",
    "import numpy as np\n",
    "import seaborn as sns\n",
    "import matplotlib.pyplot as plt\n",
    "from collections import Counter\n",
    "from matplotlib.figure import Figure\n",
    "from sklearn.decomposition import PCA\n",
    "from sklearn.preprocessing import StandardScaler\n",
    "from scipy.stats import multivariate_normal\n",
    "from sklearn.metrics import confusion_matrix\n",
    "from matplotlib.backends.backend_agg import FigureCanvasAgg as FigureCanvas"
   ]
  },
  {
   "cell_type": "markdown",
   "metadata": {},
   "source": [
    "### K-Means"
   ]
  },
  {
   "cell_type": "code",
   "execution_count": 14,
   "metadata": {},
   "outputs": [],
   "source": [
    "class KMeans:\n",
    "    def __init__(self, n_clusters=2, max_iter=1000):\n",
    "        self.n_clusters = n_clusters\n",
    "        self.max_iter = max_iter\n",
    "        self.centers = None\n",
    "        \n",
    "    def dist(self, data_points, center):\n",
    "        return np.sqrt(np.sum((data_points - center) ** 2, axis=1))\n",
    "        \n",
    "    def fit(self, data):\n",
    "        # get initial centers from the samples itself.\n",
    "        # better initializations are also available - have a look at kmeans++\n",
    "        self.centers = data[\n",
    "            np.random.choice(np.arange(len(data)), size=self.n_clusters)\n",
    "        ]\n",
    "        \n",
    "        # kmeans algorithm\n",
    "        for _ in range(self.max_iter):\n",
    "            dist_matrix = np.zeros((len(data), self.n_clusters))\n",
    "            for i in  range(self.n_clusters):\n",
    "                dist_matrix[:, i] = self.dist(data, self.centers[i])\n",
    "            cluster_assignment = dist_matrix.argmin(axis=1)\n",
    "            # find new centers\n",
    "            new_centers = np.zeros_like(self.centers)\n",
    "            for i in range(self.n_clusters):\n",
    "                new_centers[i] = np.mean(data[cluster_assignment == i], axis=0)\n",
    "            # break if we have converged\n",
    "            if np.allclose(new_centers, self.centers):\n",
    "                self.centers = new_centers\n",
    "                break\n",
    "            self.centers = new_centers\n",
    "        \n",
    "    def predict(self, data):\n",
    "        dist_matrix = np.zeros((len(data), self.n_clusters))\n",
    "        for i in range(self.n_clusters):\n",
    "            dist_matrix[:, i] = self.dist(data, self.centers[i])\n",
    "        cluster_assignment = dist_matrix.argmin(axis=1)\n",
    "        return cluster_assignment"
   ]
  },
  {
   "cell_type": "markdown",
   "metadata": {},
   "source": [
    "### GMM"
   ]
  },
  {
   "cell_type": "code",
   "execution_count": 15,
   "metadata": {},
   "outputs": [],
   "source": [
    "class GMM:\n",
    "    def __init__(\n",
    "        self, \n",
    "        n_mixtures=2, \n",
    "        max_iter=1000, \n",
    "        covar_type='full', \n",
    "        plot_progress=True, \n",
    "        p_iter=5,\n",
    "        gif_name='EM_Progress.gif'\n",
    "    ):\n",
    "        self.n_mixtures = n_mixtures\n",
    "        self.max_iter = max_iter\n",
    "        self.alphas = np.ones(n_mixtures) / n_mixtures\n",
    "        self.means = None\n",
    "        self.covs = None\n",
    "        self.covar_type = covar_type\n",
    "        self.plot_progress = plot_progress\n",
    "        self.p_iter = p_iter\n",
    "        self.gif_name = gif_name\n",
    "        self.log_likelihood_plot_list = None\n",
    "        \n",
    "    def p(self, data, mean, cov):\n",
    "        dist = multivariate_normal(mean=mean, cov=cov)\n",
    "        return dist.pdf(data)\n",
    "    \n",
    "    def predict(self, data):\n",
    "        posteriors = np.zeros((len(data), self.n_mixtures))\n",
    "        for i in range(self.n_mixtures):\n",
    "            posteriors[:, i] = self.alphas[i] * self.p(data, self.means[i], self.covs[i])\n",
    "        labels = np.argmax(posteriors, axis=1)\n",
    "        return labels\n",
    "    \n",
    "    def full_covar(self, data, resp):\n",
    "        new_covs = np.zeros_like(self.covs)\n",
    "        for i in range(self.n_mixtures):\n",
    "            diff = data - self.means[i]\n",
    "            new_covs[i] = np.dot(resp[:, i] * diff.T, diff) / resp[:, i].sum()\n",
    "            # regularization term to keep the covariance matrix positive semi-definite\n",
    "            new_covs[i].flat[::data.shape[1] + 1] += 1e-6\n",
    "        return new_covs\n",
    "            \n",
    "    def diag_covar(self, data, resp):\n",
    "        sqrd_data = np.dot(resp.T, data * data) / resp.sum(axis=0)[:, None]\n",
    "        sqrd_means = self.means ** 2\n",
    "        means = self.means * np.dot(resp.T, data) / resp.sum(axis=0)[:, None]\n",
    "        diag_covs = (sqrd_data - 2 * means + sqrd_means + 1e-6)\n",
    "        new_covs = [np.diag(cov) for cov in diag_covs]\n",
    "        return new_covs\n",
    "    \n",
    "    def e_step(self, data):\n",
    "        resp = np.zeros((len(data), self.n_mixtures))\n",
    "        # find responsibility of each data point towards a Gaussian\n",
    "        for i in range(self.n_mixtures):\n",
    "            resp[:, i] = self.alphas[i] * self.p(data, self.means[i], self.covs[i])\n",
    "        self.log_likelihood_plot_list.append(np.mean(np.log(resp.sum(axis=1))))\n",
    "        # normalize the sum\n",
    "        resp = resp / resp.sum(axis=1)[:, None]\n",
    "        return resp\n",
    "        \n",
    "    def m_step(self, data, resp):        \n",
    "        # re-estimation for alphas\n",
    "        new_alphas = resp.mean(axis=0)\n",
    "        \n",
    "        # re-estimation for means\n",
    "        new_means = np.zeros_like(self.means)\n",
    "        for i in range(self.n_mixtures):\n",
    "            new_means[i] = np.multiply(resp[:, i][:, None], data).sum(axis=0) / resp[:, i].sum()\n",
    "        \n",
    "        # re-estimation for covariance matrix\n",
    "        if self.covar_type == 'full':\n",
    "            new_covs = self.full_covar(data, resp)\n",
    "        elif self.covar_type == 'diag':\n",
    "            new_covs = self.diag_covar(data, resp)\n",
    "        else:\n",
    "            raise NotImplementedError()\n",
    "            \n",
    "        return new_alphas, new_means, new_covs\n",
    "    \n",
    "    def plot_creator(self, data):\n",
    "        labels = self.predict(data)\n",
    "        \n",
    "        # create figure\n",
    "        fig = Figure(figsize=(10, 8))\n",
    "        canvas = FigureCanvas(fig)\n",
    "        ax = fig.add_subplot(111)\n",
    "        for i in range(self.n_mixtures):\n",
    "            ax.scatter(data[:,0][labels == i], data[:, 1][labels == i], s=12, label='GMM-'+str(i))\n",
    "        ax.set_xlabel('PC-1')\n",
    "        ax.set_ylabel('PC-2')\n",
    "        ax.set_title('Progress of EM Algorithm')\n",
    "        ax.legend()\n",
    "        fig.dpi = 200\n",
    "        canvas.draw()\n",
    "        image = np.asarray(canvas.buffer_rgba())\n",
    "        return image\n",
    "        \n",
    "        \n",
    "    def fit(self, data):\n",
    "        n_features = data.shape[1]\n",
    "        # intialize empty lists to store images and \n",
    "        # progress of EM algorithm per step\n",
    "        progress_images = []\n",
    "        self.log_likelihood_plot_list = []\n",
    "        \n",
    "        # initialize means\n",
    "        kmeans_model = KMeans(n_clusters=self.n_mixtures)\n",
    "        kmeans_model.fit(data)\n",
    "        self.means = kmeans_model.centers\n",
    "        \n",
    "        # initialize cov\n",
    "        self.covs = np.zeros((self.n_mixtures, n_features, n_features))\n",
    "        data_labels = kmeans_model.predict(data)\n",
    "        for i in range(self.n_mixtures):\n",
    "            self.covs[i] = np.cov(data[data_labels == i].T)\n",
    "        \n",
    "        # EM - algorithm\n",
    "        for step in range(self.max_iter):\n",
    "            # for each data point find its responsibility\n",
    "            # towards each gaussian\n",
    "            resp = self.e_step(data)\n",
    "            \n",
    "            # re-estimation of model parameters\n",
    "            alphas, means, covs = self.m_step(data, resp)\n",
    "            \n",
    "            # display progress after every 5 iterations\n",
    "            if step % self.p_iter == 0 and self.plot_progress:\n",
    "                progress_images.append(self.plot_creator(data))\n",
    "            \n",
    "            # break if convergence\n",
    "            if np.allclose(self.alphas, alphas, rtol=1e-3, atol=1e-3) and \\\n",
    "               np.allclose(self.means, means, rtol=1e-3, atol=1e-3) and \\\n",
    "               np.allclose(self.covs, covs, rtol=1e-3, atol=1e-3):\n",
    "                break\n",
    "                \n",
    "            self.alphas = alphas\n",
    "            self.means = means\n",
    "            self.covs = covs\n",
    "        \n",
    "        self.log_likelihood_plot_list = self.log_likelihood_plot_list[1:]\n",
    "        \n",
    "        if self.plot_progress: \n",
    "            imageio.mimsave(self.gif_name, progress_images)\n",
    "            "
   ]
  },
  {
   "cell_type": "markdown",
   "metadata": {},
   "source": [
    "### Read the dataset"
   ]
  },
  {
   "cell_type": "code",
   "execution_count": 16,
   "metadata": {},
   "outputs": [],
   "source": [
    "with open('dataset.txt', 'r') as f:\n",
    "    corpus = f.read().splitlines()\n",
    "labels = np.array([int(doc[-1]) for doc in corpus])\n",
    "corpus = [doc[:-2].strip() for doc in corpus]"
   ]
  },
  {
   "cell_type": "markdown",
   "metadata": {},
   "source": [
    "### Vocabulary Creator"
   ]
  },
  {
   "cell_type": "code",
   "execution_count": 17,
   "metadata": {},
   "outputs": [],
   "source": [
    "def vocabulary_tf(corpus):\n",
    "    '''\n",
    "    Input\n",
    "    -----\n",
    "    corpus: list of reviews\n",
    "    \n",
    "    Returns\n",
    "    -------\n",
    "    vocab: set of unique words\n",
    "    doc_word_count: list of shape(N,) where each element is the word count of each document\n",
    "    word_doc_count: dict with words as keys and their document frequency as values\n",
    "    '''\n",
    "    # extract the vocabulary from the documents\n",
    "    # and obtain word counts per document\n",
    "    vocab = set()\n",
    "    doc_word_count = []\n",
    "    for doc in corpus:\n",
    "        # observe we are ignoring the numbers and punctuations if any\n",
    "        # this is a hyperparameter to play with and is left as an exercise\n",
    "        sent = re.sub(r'[^A-Za-z]', ' ', doc).lower()\n",
    "        words = sent.split()\n",
    "        doc_word_count.append(dict(Counter(words)))\n",
    "        vocab.update(set(words))\n",
    "    vocab = list(vocab)\n",
    "    # calculate document-frequency of each word in vocabulary\n",
    "    word_doc_count = {word: 0 for word in vocab}\n",
    "    for word in vocab:\n",
    "        for doc_words in doc_word_count:\n",
    "            if word in doc_words.keys():\n",
    "                word_doc_count[word] += 1\n",
    "    vocab.sort()\n",
    "    return vocab, doc_word_count, word_doc_count"
   ]
  },
  {
   "cell_type": "markdown",
   "metadata": {},
   "source": [
    "### TF-IDF Vectorizer"
   ]
  },
  {
   "cell_type": "code",
   "execution_count": 18,
   "metadata": {},
   "outputs": [],
   "source": [
    "def tf_idf_vectorizer(vocab, doc_word_count, word_doc_count):\n",
    "    '''\n",
    "    Inputs\n",
    "    ------\n",
    "    vocab: set of unique words\n",
    "    doc_word_count: list of shape(N,) where each element is the word count of each document\n",
    "    word_doc_count: dict with words as keys and their document frequency as values\n",
    "    \n",
    "    Returns\n",
    "    -------\n",
    "    doc_vectors: 2d array of shape(N, len(vocab)) - representing tf-idf vectors\n",
    "    '''\n",
    "    doc_vectors = np.zeros((len(doc_word_count), len(vocab)))\n",
    "    for i, doc in enumerate(doc_word_count):\n",
    "        for j, word in enumerate(vocab):\n",
    "            if word not in doc.keys():\n",
    "                continue\n",
    "            # term frequency -tf\n",
    "            total_word_count_doc = sum(doc.values())\n",
    "            tf = doc[word]\n",
    "            # document frequency - df\n",
    "            df = word_doc_count[word]\n",
    "            # inverse document frequency - idf\n",
    "            idf = 1 + np.log((1 + len(doc_word_count)) / (1 + df))\n",
    "            doc_vectors[i, j] = tf * idf\n",
    "    return doc_vectors"
   ]
  },
  {
   "cell_type": "code",
   "execution_count": 19,
   "metadata": {},
   "outputs": [],
   "source": [
    "def document_vectorizer(corpus):\n",
    "    vocab, doc_word_count, word_doc_count = vocabulary_tf(corpus)\n",
    "    doc_vectors = tf_idf_vectorizer(vocab, doc_word_count, word_doc_count)\n",
    "    return doc_vectors"
   ]
  },
  {
   "cell_type": "code",
   "execution_count": 20,
   "metadata": {},
   "outputs": [
    {
     "data": {
      "text/plain": [
       "(1000, 3084)"
      ]
     },
     "execution_count": 20,
     "metadata": {},
     "output_type": "execute_result"
    }
   ],
   "source": [
    "doc_vectors_pre_pca = document_vectorizer(corpus)\n",
    "\n",
    "doc_vectors_pre_pca.shape"
   ]
  },
  {
   "cell_type": "markdown",
   "metadata": {},
   "source": [
    "### Perform PCA"
   ]
  },
  {
   "cell_type": "code",
   "execution_count": 21,
   "metadata": {},
   "outputs": [
    {
     "data": {
      "text/plain": [
       "(1000, 10)"
      ]
     },
     "execution_count": 21,
     "metadata": {},
     "output_type": "execute_result"
    }
   ],
   "source": [
    "doc_vectors = PCA(n_components=10, whiten=True).fit_transform(doc_vectors_pre_pca)\n",
    "\n",
    "doc_vectors.shape"
   ]
  },
  {
   "cell_type": "markdown",
   "metadata": {},
   "source": [
    "### Perform GMM training"
   ]
  },
  {
   "cell_type": "code",
   "execution_count": 22,
   "metadata": {
    "scrolled": false
   },
   "outputs": [],
   "source": [
    "# because of heuristic initialization of KMeans, you might \n",
    "# have to run the code again if error is thrown related to NaNs\n",
    "gif_name='em_algo_progress.gif'\n",
    "model = GMM(n_mixtures=2, covar_type='diag', p_iter=1, gif_name=gif_name)\n",
    "model.fit(doc_vectors)"
   ]
  },
  {
   "cell_type": "code",
   "execution_count": 23,
   "metadata": {},
   "outputs": [
    {
     "data": {
      "image/png": "[encoded data removed]",
      "text/plain": [
       "<Figure size 432x288 with 1 Axes>"
      ]
     },
     "metadata": {
      "needs_background": "light"
     },
     "output_type": "display_data"
    }
   ],
   "source": [
    "# obtain the log-likelihood curve to check \n",
    "# if the implementation was correct\n",
    "plt.plot(model.log_likelihood_plot_list)\n",
    "plt.xlabel('step')\n",
    "plt.ylabel('log-likelihood')\n",
    "plt.title('Log-likelihood curve for EM-Algorithm')\n",
    "plt.show()"
   ]
  },
  {
   "cell_type": "markdown",
   "metadata": {},
   "source": [
    "### Display the progress"
   ]
  },
  {
   "cell_type": "code",
   "execution_count": 24,
   "metadata": {},
   "outputs": [
    {
     "data": {
      "text/html": [
       "<img src=em_algo_progress.gif?1647182216.7459698 width=\"700\">"
      ],
      "text/plain": [
       "<IPython.core.display.HTML object>"
      ]
     },
     "execution_count": 24,
     "metadata": {},
     "output_type": "execute_result"
    }
   ],
   "source": [
    "# you would have to run the code again to generate the below plot\n",
    "from IPython.display import HTML\n",
    "HTML(f'<img src={gif_name}?{time.time()} width=\"700\">')"
   ]
  },
  {
   "cell_type": "markdown",
   "metadata": {},
   "source": [
    "### Scatter Plot with first two PCA dimension with actual labels"
   ]
  },
  {
   "cell_type": "code",
   "execution_count": 25,
   "metadata": {},
   "outputs": [
    {
     "data": {
      "image/png": "[encoded data removed]",
      "text/plain": [
       "<Figure size 720x576 with 1 Axes>"
      ]
     },
     "metadata": {
      "needs_background": "light"
     },
     "output_type": "display_data"
    }
   ],
   "source": [
    "plt.figure(figsize=(10, 8))\n",
    "for i in range(2):\n",
    "    plt.scatter(doc_vectors[:, 0][labels == i], doc_vectors[:, 1][labels == i], s=12, label='label - '+str(i))\n",
    "plt.xlabel('PC-1')\n",
    "plt.ylabel('PC-2')\n",
    "plt.title('Ground Truth Scatter Plot')\n",
    "plt.legend()\n",
    "plt.savefig('GT_Plot.jpeg', dpi=200)\n",
    "plt.show()\n",
    "plt.close()"
   ]
  },
  {
   "cell_type": "markdown",
   "metadata": {},
   "source": [
    "### Observation\n",
    "\n",
    "We notice that reviews for the two classes are quite overlapped in the latent space on which the data has been projected. Thus, it is expected that the model will not perform well if the classification is to be performed based on just the posterior probabilities of the Gaussians. This fact is quite evident from the plots shown above where we observe that the Gaussians at least in the first two dimensional space of PCA is learning to mimic the data distribution but cannot differentiate between the two.\n",
    "\n",
    "We will now find out the confusion matrix for such a classification below."
   ]
  },
  {
   "cell_type": "code",
   "execution_count": 26,
   "metadata": {},
   "outputs": [
    {
     "data": {
      "image/png": "[encoded data removed]",
      "text/plain": [
       "<Figure size 432x288 with 2 Axes>"
      ]
     },
     "metadata": {
      "needs_background": "light"
     },
     "output_type": "display_data"
    }
   ],
   "source": [
    "# obtain the labels from the GMM\n",
    "pred_labels = model.predict(doc_vectors)\n",
    "# get the confusion matrix\n",
    "conf_mat = confusion_matrix(labels, pred_labels)\n",
    "sns.heatmap(conf_mat, annot=True, fmt='d')\n",
    "plt.ylabel('actual values')\n",
    "plt.xlabel('predicted values')\n",
    "plt.title('Confusion Matrix')\n",
    "plt.show()"
   ]
  },
  {
   "cell_type": "markdown",
   "metadata": {},
   "source": [
    "Quite evidently the overlap has forced the model to learn a skewed distribution and thus there is no correlation between the predicted and the ground truth label as such."
   ]
  },
  {
   "cell_type": "code",
   "execution_count": 27,
   "metadata": {},
   "outputs": [
    {
     "data": {
      "text/plain": [
       "0.0"
      ]
     },
     "execution_count": 27,
     "metadata": {},
     "output_type": "execute_result"
    }
   ],
   "source": [
    "# The correlation coefficient is\n",
    "np.corrcoef(pred_labels.reshape(-1), labels.reshape(-1))[0, 1]"
   ]
  }
 ],
 "metadata": {
  "kernelspec": {
   "display_name": "Python 3",
   "language": "python",
   "name": "python3"
  },
  "language_info": {
   "codemirror_mode": {
    "name": "ipython",
    "version": 3
   },
   "file_extension": ".py",
   "mimetype": "text/x-python",
   "name": "python",
   "nbconvert_exporter": "python",
   "pygments_lexer": "ipython3",
   "version": "3.8.10"
  }
 },
 "nbformat": 4,
 "nbformat_minor": 5
}
